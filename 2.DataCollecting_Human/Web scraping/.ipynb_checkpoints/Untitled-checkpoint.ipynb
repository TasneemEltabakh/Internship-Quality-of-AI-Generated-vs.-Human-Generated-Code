{
 "cells": [
  {
   "cell_type": "code",
   "execution_count": 102,
   "id": "bfad7f66-9fa5-4db8-8211-8ae427b81dc0",
   "metadata": {},
   "outputs": [],
   "source": [
    "from selenium import webdriver\n",
    "from selenium.webdriver.common.by import By\n",
    "from selenium.webdriver.chrome.service import Service\n",
    "from bs4 import BeautifulSoup\n",
    "from selenium.webdriver.support.ui import WebDriverWait\n",
    "import time\n",
    "import logging\n",
    "import csv\n",
    "from selenium.webdriver.chrome.options import Options\n",
    "from selenium.webdriver.support import expected_conditions as EC\n",
    "\n",
    "\n"
   ]
  },
  {
   "cell_type": "code",
   "execution_count": 103,
   "id": "bc282caf-301a-45c5-a039-439456a071a2",
   "metadata": {},
   "outputs": [],
   "source": [
    "# Setup WebDriver\n",
    "service = Service(r'G:\\Internships\\Quality of AI-Generated vs. Human-Generated Code\\Web scraping\\chromedriver.exe')\n",
    "chrome_options = webdriver.ChromeOptions()\n",
    "chrome_options.add_argument(\"--start-maximized\")\n",
    "chrome_options.add_argument(\"--disable-notifications\")\n",
    "driver = webdriver.Chrome(service=service, options=chrome_options)\n",
    "\n",
    "logging.basicConfig(filename='leetcode_scraper.log', level=logging.INFO, format='%(asctime)s - %(levelname)s - %(message)s')\n",
    "\n",
    "# List to hold the scraped data\n",
    "questions_and_answers = []"
   ]
  },
  {
   "cell_type": "code",
   "execution_count": null,
   "id": "ba78c19b-e25a-4080-9f93-3bb2ae18d2ce",
   "metadata": {},
   "outputs": [],
   "source": [
    "problem_urls = []\n",
    "try:\n",
    "    driver.get('https://leetcode.com/problemset/all/')\n",
    "    time.sleep(3)\n",
    "\n",
    "    limit = 8\n",
    "    while len(problem_urls) < limit:\n",
    "        driver.execute_script(\"window.scrollTo(0, document.body.scrollHeight);\")\n",
    "        time.sleep(5)\n",
    "\n",
    "        problem_links = driver.find_elements(By.CSS_SELECTOR, 'a[href^=\"/problems/\"]')\n",
    "       \n",
    "        for link in problem_links:\n",
    "            url = link.get_attribute('href')\n",
    "            # Ensure we only add URLs that do not contain '/solution'\n",
    "            if '/solution' not in url and url not in problem_urls:\n",
    "                problem_urls.append(url)\n",
    "                if len(problem_urls) >= limit:\n",
    "                    break\n",
    "\n",
    "        if len(problem_urls) < limit:\n",
    "            logging.info(\"No more pages to load or error occurred during pagination.\")\n",
    "            break\n",
    "\n",
    "except Exception as e:\n",
    "    logging.error(f\"Error retrieving problem URLs: {e}\")"
   ]
  },
  {
   "cell_type": "code",
   "execution_count": 18,
   "id": "89fc835f-dabe-487e-883a-f2c47dcffe17",
   "metadata": {},
   "outputs": [
    {
     "data": {
      "text/plain": [
       "['https://leetcode.com/problems/ugly-number-ii/?envType=daily-question&envId=2024-08-18',\n",
       " 'https://leetcode.com/problems/two-sum',\n",
       " 'https://leetcode.com/problems/add-two-numbers',\n",
       " 'https://leetcode.com/problems/longest-substring-without-repeating-characters',\n",
       " 'https://leetcode.com/problems/median-of-two-sorted-arrays',\n",
       " 'https://leetcode.com/problems/longest-palindromic-substring',\n",
       " 'https://leetcode.com/problems/zigzag-conversion',\n",
       " 'https://leetcode.com/problems/reverse-integer']"
      ]
     },
     "execution_count": 18,
     "metadata": {},
     "output_type": "execute_result"
    }
   ],
   "source": [
    "problem_urls"
   ]
  },
  {
   "cell_type": "code",
   "execution_count": 129,
   "id": "55e2644b-f80d-45b6-b39f-a4bbeca870aa",
   "metadata": {},
   "outputs": [],
   "source": [
    "# Define the URL to be processed\n",
    "url = \"https://leetcode.com/problems/two-sum\"\n",
    "\n",
    "# Access the page\n",
    "driver.get(url)\n",
    "time.sleep(10)  # Give the page time to load\n",
    "soup = BeautifulSoup(driver.page_source, 'html.parser')\n",
    "\n",
    "# Extract the question title\n",
    "title_element = soup.find('div', class_='text-title-large font-semibold text-text-primary dark:text-text-primary')\n",
    "if not title_element:\n",
    "    logging.warning(f\"Title not found for URL: {url}\")\n",
    "    title = None\n",
    "else:\n",
    "    title = title_element.text.strip()\n",
    "\n",
    "# Extract the problem statement\n",
    "problem_statement_element = soup.find('div', class_='elfjS')\n",
    "if not problem_statement_element:\n",
    "    logging.warning(f\"Problem statement not found for {title}\")\n",
    "    problem_statement = None\n",
    "else:\n",
    "    problem_statement = problem_statement_element.get_text(separator='\\n').strip()\n",
    "\n",
    "\n",
    "\n"
   ]
  },
  {
   "cell_type": "code",
   "execution_count": 108,
   "id": "588b4c36-dcd0-4740-ac12-5adb4f78c66e",
   "metadata": {},
   "outputs": [
    {
     "data": {
      "text/plain": [
       "'Given an array of integers \\nnums\\n\\xa0and an integer \\ntarget\\n, return \\nindices of the two numbers such that they add up to \\ntarget\\n.\\n\\n\\nYou may assume that each input would have \\nexactly\\n one solution\\n, and you may not use the \\nsame\\n element twice.\\n\\n\\nYou can return the answer in any order.\\n\\n\\n\\xa0\\n\\n\\nExample 1:\\n\\n\\nInput:\\n nums = [2,7,11,15], target = 9\\n\\nOutput:\\n [0,1]\\n\\nExplanation:\\n Because nums[0] + nums[1] == 9, we return [0, 1].\\n\\n\\n\\nExample 2:\\n\\n\\nInput:\\n nums = [3,2,4], target = 6\\n\\nOutput:\\n [1,2]\\n\\n\\n\\nExample 3:\\n\\n\\nInput:\\n nums = [3,3], target = 6\\n\\nOutput:\\n [0,1]\\n\\n\\n\\n\\xa0\\n\\n\\nConstraints:\\n\\n\\n\\n\\n2 <= nums.length <= 10\\n4\\n\\n\\n-10\\n9\\n <= nums[i] <= 10\\n9\\n\\n\\n-10\\n9\\n <= target <= 10\\n9\\n\\n\\nOnly one valid answer exists.\\n\\n\\n\\n\\n\\xa0\\n\\n\\nFollow-up:\\xa0\\nCan you come up with an algorithm that is less than \\nO(n\\n2\\n)\\n\\xa0\\ntime complexity?'"
      ]
     },
     "execution_count": 108,
     "metadata": {},
     "output_type": "execute_result"
    }
   ],
   "source": [
    "problem_statement"
   ]
  },
  {
   "cell_type": "code",
   "execution_count": 130,
   "id": "e167d08b-95bd-4821-9f97-9b665812ea8f",
   "metadata": {},
   "outputs": [
    {
     "ename": "AttributeError",
     "evalue": "'NoneType' object has no attribute 'text'",
     "output_type": "error",
     "traceback": [
      "\u001b[1;31m---------------------------------------------------------------------------\u001b[0m",
      "\u001b[1;31mAttributeError\u001b[0m                            Traceback (most recent call last)",
      "Cell \u001b[1;32mIn[130], line 17\u001b[0m\n\u001b[0;32m     14\u001b[0m textarea \u001b[38;5;241m=\u001b[39m soup\u001b[38;5;241m.\u001b[39mfind(\u001b[38;5;124m'\u001b[39m\u001b[38;5;124mtextarea\u001b[39m\u001b[38;5;124m'\u001b[39m, attrs\u001b[38;5;241m=\u001b[39m{\u001b[38;5;124m'\u001b[39m\u001b[38;5;124mname\u001b[39m\u001b[38;5;124m'\u001b[39m: \u001b[38;5;124m'\u001b[39m\u001b[38;5;124mlc-codemirror\u001b[39m\u001b[38;5;124m'\u001b[39m})\n\u001b[0;32m     16\u001b[0m \u001b[38;5;66;03m# Extract the content of the textarea\u001b[39;00m\n\u001b[1;32m---> 17\u001b[0m code \u001b[38;5;241m=\u001b[39m \u001b[43mtextarea\u001b[49m\u001b[38;5;241;43m.\u001b[39;49m\u001b[43mtext\u001b[49m\u001b[38;5;241m.\u001b[39mstrip()\n\u001b[0;32m     18\u001b[0m \u001b[38;5;28mprint\u001b[39m(code)\n\u001b[0;32m     23\u001b[0m \u001b[38;5;66;03m# Close the WebDriver\u001b[39;00m\n",
      "\u001b[1;31mAttributeError\u001b[0m: 'NoneType' object has no attribute 'text'"
     ]
    }
   ],
   "source": [
    "# Click on the tab to reveal the iframe\n",
    "driver.find_element(By.ID, \"editorial_tab\").click()\n",
    "time.sleep(5)  # Give the page time to load\n",
    "iframe = driver.find_element(By.TAG_NAME, \"iframe\")\n",
    "driver.switch_to.frame(iframe)\n",
    "\n",
    "\n",
    "# Get the page source and pass it to BeautifulSoup\n",
    "page_source = driver.page_source\n",
    "soup = BeautifulSoup(page_source, 'html.parser')\n",
    "\n",
    "# Locate the textarea within the ReactCodeMirror div\n",
    "react_code_mirror = soup.find('div', class_='ReactCodeMirror')\n",
    "textarea = soup.find('textarea', attrs={'name': 'lc-codemirror'})\n",
    "\n",
    "# Extract the content of the textarea\n",
    "code = textarea.get_text(separator='\\n').strip()\n",
    "print(code)\n",
    "\n",
    "\n",
    "\n",
    "\n",
    "# Close the WebDriver"
   ]
  },
  {
   "cell_type": "code",
   "execution_count": 59,
   "id": "c4323972-0979-48d1-961e-e5c86e94d136",
   "metadata": {},
   "outputs": [
    {
     "ename": "NameError",
     "evalue": "name 'code' is not defined",
     "output_type": "error",
     "traceback": [
      "\u001b[1;31m---------------------------------------------------------------------------\u001b[0m",
      "\u001b[1;31mNameError\u001b[0m                                 Traceback (most recent call last)",
      "Cell \u001b[1;32mIn[59], line 1\u001b[0m\n\u001b[1;32m----> 1\u001b[0m \u001b[43mcode\u001b[49m\n",
      "\u001b[1;31mNameError\u001b[0m: name 'code' is not defined"
     ]
    }
   ],
   "source": [
    "code"
   ]
  },
  {
   "cell_type": "code",
   "execution_count": 15,
   "id": "bfdd27cd-625e-4f7f-971a-596686372005",
   "metadata": {},
   "outputs": [
    {
     "data": {
      "text/plain": [
       "[]"
      ]
     },
     "execution_count": 15,
     "metadata": {},
     "output_type": "execute_result"
    }
   ],
   "source": [
    "lang_buttons"
   ]
  },
  {
   "cell_type": "code",
   "execution_count": null,
   "id": "286fc9f4-04c8-4efb-bf1b-5cd357eea7ad",
   "metadata": {},
   "outputs": [],
   "source": []
  },
  {
   "cell_type": "code",
   "execution_count": null,
   "id": "c77bc89d-bfe3-4471-b98b-71a37310eece",
   "metadata": {},
   "outputs": [],
   "source": []
  },
  {
   "cell_type": "code",
   "execution_count": null,
   "id": "3536f898-6528-4cd0-a184-fe6bdb259354",
   "metadata": {},
   "outputs": [],
   "source": []
  },
  {
   "cell_type": "code",
   "execution_count": null,
   "id": "5e4bc04d-d688-487c-ace0-b70210393050",
   "metadata": {},
   "outputs": [],
   "source": []
  }
 ],
 "metadata": {
  "kernelspec": {
   "display_name": "Python 3 (ipykernel)",
   "language": "python",
   "name": "python3"
  },
  "language_info": {
   "codemirror_mode": {
    "name": "ipython",
    "version": 3
   },
   "file_extension": ".py",
   "mimetype": "text/x-python",
   "name": "python",
   "nbconvert_exporter": "python",
   "pygments_lexer": "ipython3",
   "version": "3.12.5"
  }
 },
 "nbformat": 4,
 "nbformat_minor": 5
}
